{
 "cells": [
  {
   "cell_type": "code",
   "execution_count": 1,
   "metadata": {},
   "outputs": [],
   "source": [
    "import cv2\n",
    "import numpy as np\n",
    "import glob\n",
    "from matplotlib import pyplot as plt\n",
    "from sklearn.decomposition import PCA\n",
    "from sklearn.preprocessing import StandardScaler\n"
   ]
  },
  {
   "cell_type": "code",
   "execution_count": 2,
   "metadata": {},
   "outputs": [],
   "source": [
    "SIFT_method = False\n",
    "scaler = StandardScaler() \n",
    "\n"
   ]
  },
  {
   "cell_type": "markdown",
   "metadata": {},
   "source": [
    "Questa funzione prende in ingresso l'immagine originale, l'immagine ritagliata e il nome del salvataggio. Restituisce un immagine che rappresenta la zona di lavoro"
   ]
  },
  {
   "cell_type": "code",
   "execution_count": 3,
   "metadata": {},
   "outputs": [],
   "source": [
    "def cutWorkSpace(img,border): \n",
    "    # dimensioni immagini\n",
    "    img_h = 2048\n",
    "    img_l = 2048\n",
    "    # offset per posizionamento su area d'indagine\n",
    "    offset_x = 600\n",
    "    offset_y = 500\n",
    "    \n",
    "    #taglio per garantire la ricerca sull'area di interesse, evitando rumori dati dallo sfondo\n",
    "    crop_img = img[offset_y:img_h-offset_y, offset_x:img_l-offset_x]\n",
    "    \n",
    "    # Convert the img to grayscale\n",
    "    gray = cv2.cvtColor(crop_img,cv2.COLOR_BGR2GRAY)\n",
    "    blurred = cv2.GaussianBlur(gray, (9, 9), 0)\n",
    "    high_thresh, thresh_im = cv2.threshold(blurred, 0, 255, cv2.THRESH_BINARY + cv2.THRESH_OTSU)\n",
    "    #cv2.imwrite('provaT.jpg', thresh_im)\n",
    "    lowThresh = 0.5*high_thresh\n",
    "    \n",
    "    \n",
    "    # Apply edge detection method on the image\n",
    "    #edges = cv2.Canny(blurred,20,150,apertureSize = 3)\n",
    "    edges = cv2.Canny(blurred,20,150,apertureSize = 3)\n",
    "    cv2.imwrite('canny.jpg', edges)\n",
    "    # This returns an array of r and theta values\n",
    "    lines = cv2.HoughLines(edges,1,np.pi/180, 100)\n",
    "    #cv2.imwrite('Risultati/resFS'+name+'c.jpg', edges)\n",
    "    # The below for loop runs till r and theta values \n",
    "    # are in the range of the 2d array\n",
    "    i = 0\n",
    "    x_first = 0\n",
    "    x_second = 0\n",
    "    count = 0\n",
    "    delta = 30\n",
    "\n",
    "    while count < 2:\n",
    "        for r,theta in lines[i]:\n",
    "            # Stores the value of cos(theta) in a\n",
    "            a = np.cos(theta)\n",
    "\n",
    "            # Stores the value of sin(theta) in b\n",
    "            b = np.sin(theta)\n",
    "\n",
    "            # x0 stores the value rcos(theta)\n",
    "            x0 = a*r\n",
    "\n",
    "            # y0 stores the value rsin(theta)\n",
    "            y0 = b*r\n",
    "\n",
    "            #ti define line lenght\n",
    "            const = 3000\n",
    "            # x1 stores the rounded off value of (rcos(theta)-1000sin(theta))\n",
    "            x1 = int(x0 + const*(-b))\n",
    "\n",
    "            # y1 stores the rounded off value of (rsin(theta)+1000cos(theta))\n",
    "            y1 = int(y0 + const*(a))\n",
    "\n",
    "            # x2 stores the rounded off value of (rcos(theta)+1000sin(theta))\n",
    "            x2 = int(x0 - const*(-b))\n",
    "\n",
    "            # y2 stores the rounded off value of (rsin(theta)-1000cos(theta))\n",
    "            y2 = int(y0 - const*(a))\n",
    "\n",
    "            if count == 0 :\n",
    "                \n",
    "                x_first = x0\n",
    "                #cv2.line(img,(x1+offset_x,y1+offset_y), (x2+offset_x,y2+offset_y), (0,0,255),2)\n",
    "                count += 1\n",
    "            else:\n",
    "                if abs(x_first-x0) > delta :\n",
    "                    x_second = x0\n",
    "                    #cv2.line(img,(x1+offset_x,y1+offset_y), (x2+offset_x,y2+offset_y), (0,0,255),2)\n",
    "                    count += 1\n",
    "            i += 1\n",
    "    # All the changes made in the input image are finally\n",
    "    # written on a new image houghlines.jpg\n",
    "    #cv2.imwrite('Risultati/res'+name+'.jpg', img)\n",
    "    \n",
    "    if x_first < x_second:\n",
    "        temp = img[0:img_h-1, int(offset_x+x_first-border):int(offset_x+x_second+border)]\n",
    "        blurred = cv2.GaussianBlur(temp, (3, 3), 0)\n",
    "        return  temp\n",
    "    else:\n",
    "        temp = img[0:img_h-1, int(offset_x+x_second-border):int(offset_x+x_first+border)]\n",
    "        blurred = cv2.GaussianBlur(temp, (3, 3), 0)\n",
    "        return  temp"
   ]
  },
  {
   "cell_type": "code",
   "execution_count": 4,
   "metadata": {},
   "outputs": [],
   "source": [
    "def divideImage(img,pcs):\n",
    "    results = []\n",
    "    lung = len(img) // pcs\n",
    "    for i in range(pcs):\n",
    "        results.append(img[(lung*i):(lung*(i+1)-1)][:])\n",
    "\n",
    "    return results"
   ]
  },
  {
   "cell_type": "code",
   "execution_count": 5,
   "metadata": {},
   "outputs": [],
   "source": [
    "import pandas as pd\n",
    "\n",
    "def dataCreation(imgs,results,num_features):\n",
    "    if SIFT_method:\n",
    "        sift = cv2.xfeatures2d.SIFT_create()  \n",
    "    else: \n",
    "        orb = cv2.ORB_create()  \n",
    "    data = []\n",
    "    keypoints = []\n",
    "    descriptors = []\n",
    "    dico = []\n",
    "    for i in range(len(imgs)):\n",
    "        if SIFT_method:\n",
    "            kp, descriptors_temp = sift.detectAndCompute(img, None)\n",
    "        else:\n",
    "            kp, descriptors_temp = orb.detectAndCompute(img, None)\n",
    "            keypoints.append(kp)\n",
    "        descriptors.append(descriptors_temp)\n",
    "        for d in descriptors_temp:\n",
    "            d = np.append(d,results[i])\n",
    "            data.append(d)\n",
    "           \n",
    "    \n",
    "\n",
    "    print(num_features)\n",
    "    cols = []\n",
    "    for i in range(num_features):\n",
    "        cols.append('F'+str(i+1))\n",
    "    \n",
    "    cols.append('R')\n",
    "        \n",
    "    df = pd.DataFrame(data, columns = cols)\n",
    "    \n",
    "    return df,cols"
   ]
  },
  {
   "cell_type": "code",
   "execution_count": 6,
   "metadata": {},
   "outputs": [],
   "source": [
    "\n",
    "\n",
    "import pandas as pd\n",
    "\n",
    "def PCA_SIFT(df,cols,num_features,components):\n",
    "    \n",
    "    features = cols[:num_features]\n",
    "\n",
    "    # Separating out the features\n",
    "    x = df.loc[:, features].values\n",
    "    # Separating out the target\n",
    "    y = df.loc[:,['R']].values\n",
    "    \n",
    "    scaler = StandardScaler() \n",
    "    scaler.fit(x)    # Only the training data are used to fit the scaler transformation,\n",
    "    x = scaler.transform(x)\n",
    "    # Standardizing the features\n",
    "    x = StandardScaler().fit_transform(x)\n",
    "\n",
    "    pca = PCA(n_components=components)\n",
    "    principalComponents = pca.fit_transform(x)\n",
    "\n",
    "    cols2 = []\n",
    "    for i in range(components):\n",
    "        cols2.append('PC'+str(i+1))\n",
    "\n",
    "    principalDf = pd.DataFrame(data = principalComponents, columns = cols2)\n",
    "        \n",
    "    #concateno valore vero\n",
    "    finalDf = pd.concat([principalDf, df[['R']]], axis = 1)\n",
    "\n",
    "    return finalDf, pca"
   ]
  },
  {
   "cell_type": "code",
   "execution_count": 7,
   "metadata": {},
   "outputs": [
    {
     "data": {
      "image/png": "[encoded data removed]",
      "text/plain": [
       "<Figure size 432x288 with 1 Axes>"
      ]
     },
     "metadata": {
      "needs_background": "light"
     },
     "output_type": "display_data"
    }
   ],
   "source": [
    "pathBuoni = '/Users/leonardoaggio/Desktop/Dataset/S606C/Buoni/*.tif'\n",
    "#pathBuoni = '/Users/leonardoaggio/Desktop/Dataset/S606C/Cam3@00004/*.tif'\n",
    "pathFS = '/Users/leonardoaggio/Desktop/Dataset/S606C/FalsiScarti/*.tif'\n",
    "pathScarti = '/Users/leonardoaggio/Desktop/Dataset/S606C/Scarti/*.tif'\n",
    "\n",
    "pezziXimmagine = 1\n",
    "border = 30\n",
    "\n",
    "results = []\n",
    "img_results = []\n",
    "list_paths = []\n",
    "\n",
    "list_paths = glob.glob(pathBuoni) \n",
    "count = 0\n",
    "for img_path in list_paths:\n",
    "    img = cv2.imread(img_path)\n",
    "    try:\n",
    "        img_results +=  divideImage(cutWorkSpace(img,border),pezziXimmagine)\n",
    "        count += 1\n",
    "    except:\n",
    "        print('errore lettura')\n",
    "\n",
    "results += [0] * count * pezziXimmagine\n",
    "\n",
    "\n",
    "\n",
    "list_paths = glob.glob(pathFS)\n",
    "count = 0\n",
    "for img_path in list_paths:\n",
    "    img = cv2.imread(img_path)\n",
    "    try:\n",
    "        img_results += divideImage(cutWorkSpace(img,border),pezziXimmagine)\n",
    "        count += 1\n",
    "    except:\n",
    "        print('errore lettura')\n",
    "        \n",
    "results += [0] * count * pezziXimmagine\n",
    "\n",
    "#list_paths += glob.glob(pathScarti)\n",
    "#results += [1] * len(glob.glob(pathScarti)) * pezziXimmagine\n",
    "\n",
    "#print(results)\n",
    "\n",
    "#####\n",
    "# ORA HO IMG_RESULTS & RESULTS\n",
    "plt.imshow(img_results[1])\n",
    "plt.show()"
   ]
  },
  {
   "cell_type": "code",
   "execution_count": 8,
   "metadata": {
    "scrolled": true,
    "tags": []
   },
   "outputs": [],
   "source": [
    "if SIFT_method:\n",
    "    num_features = 128\n",
    "else:\n",
    "    num_features = 32"
   ]
  },
  {
   "cell_type": "code",
   "execution_count": 9,
   "metadata": {},
   "outputs": [
    {
     "name": "stdout",
     "output_type": "stream",
     "text": [
      "32\n"
     ]
    }
   ],
   "source": [
    "df,cols = dataCreation(img_results,results,num_features)"
   ]
  },
  {
   "cell_type": "code",
   "execution_count": 10,
   "metadata": {},
   "outputs": [],
   "source": [
    "file_name = 'dataframeORB.csv'\n",
    "#df.to_pickle(file_name) "
   ]
  },
  {
   "cell_type": "code",
   "execution_count": 18,
   "metadata": {},
   "outputs": [],
   "source": [
    "df = pd.read_pickle(file_name)\n"
   ]
  },
  {
   "cell_type": "code",
   "execution_count": 88,
   "metadata": {},
   "outputs": [],
   "source": [
    "components = 8"
   ]
  },
  {
   "cell_type": "code",
   "execution_count": 89,
   "metadata": {},
   "outputs": [],
   "source": [
    "cols = []\n",
    "for i in range(num_features):\n",
    "    cols.append('F'+str(i+1))\n",
    "\n",
    "cols.append('R')"
   ]
  },
  {
   "cell_type": "code",
   "execution_count": 90,
   "metadata": {},
   "outputs": [],
   "source": [
    "\n",
    "finalDf, pca = PCA_SIFT(df,cols,num_features,components)"
   ]
  },
  {
   "cell_type": "code",
   "execution_count": 91,
   "metadata": {},
   "outputs": [],
   "source": [
    "#finalDf"
   ]
  },
  {
   "cell_type": "code",
   "execution_count": 92,
   "metadata": {},
   "outputs": [
    {
     "data": {
      "image/png": "[encoded data removed]",
      "text/plain": [
       "<Figure size 864x864 with 1 Axes>"
      ]
     },
     "metadata": {
      "needs_background": "light"
     },
     "output_type": "display_data"
    }
   ],
   "source": [
    "fig = plt.figure(figsize = (12,12))\n",
    "ax = fig.add_subplot(1,1,1) \n",
    "ax.set_xlabel('Principal Component 1', fontsize = 15)\n",
    "ax.set_ylabel('Principal Component 2', fontsize = 15)\n",
    "ax.set_title('2 component PCA', fontsize = 20)\n",
    "targets = [0, 1]\n",
    "colors = ['g', 'r']\n",
    "for target, color in zip(targets,colors):\n",
    "    indicesToKeep = finalDf['R'] == target\n",
    "    ax.scatter(finalDf.loc[indicesToKeep, 'PC1']\n",
    "               , finalDf.loc[indicesToKeep, 'PC2']\n",
    "                #, finalDf.loc[indicesToKeep, 'R']\n",
    "               , c = color\n",
    "               , s = 50)\n",
    "ax.legend(targets)\n",
    "ax.grid()"
   ]
  },
  {
   "cell_type": "code",
   "execution_count": 124,
   "metadata": {},
   "outputs": [],
   "source": [
    "pathScartiVal = '/Users/leonardoaggio/Desktop/Dataset/S606C/ScartiTotali/Cam3@00004 5.tif'\n",
    "\n",
    "\n",
    "list_paths = glob.glob(pathScartiVal)\n",
    "count = 0\n",
    "img_results = []\n",
    "for img_path in list_paths:\n",
    "    img = cv2.imread(img_path)\n",
    "    try:\n",
    "        img_results += divideImage(cutWorkSpace(img,border),pezziXimmagine)\n",
    "        count += 1\n",
    "    except:\n",
    "        print('errore lettura')\n",
    "        \n",
    "results = [1] * count * pezziXimmagine"
   ]
  },
  {
   "cell_type": "code",
   "execution_count": null,
   "metadata": {},
   "outputs": [],
   "source": []
  },
  {
   "cell_type": "code",
   "execution_count": 125,
   "metadata": {},
   "outputs": [
    {
     "name": "stdout",
     "output_type": "stream",
     "text": [
      "32\n"
     ]
    }
   ],
   "source": [
    "df2,cols = dataCreation(img_results,results,num_features)"
   ]
  },
  {
   "cell_type": "code",
   "execution_count": 126,
   "metadata": {},
   "outputs": [],
   "source": [
    "features = cols[:num_features]\n",
    "# Separating out the features\n",
    "x = df2.loc[:, features].values\n",
    "# Separating out the target\n",
    "y = df2.loc[:,['R']].values\n",
    "# Standardizing the features\n",
    "x = scaler.fit_transform(x)\n",
    "\n",
    "#pca = PCA(n_components=components)\n",
    "principalComponents = pca.transform(x)\n",
    "\n",
    "cols2 = []\n",
    "for i in range(components):\n",
    "    cols2.append('PC'+str(i+1))\n",
    "\n",
    "principalDf = pd.DataFrame(data = principalComponents, columns = cols2)\n",
    "\n",
    "#concateno valore vero\n",
    "finalDf2 = pd.concat([principalDf, df2[['R']]], axis = 1)"
   ]
  },
  {
   "cell_type": "code",
   "execution_count": 127,
   "metadata": {},
   "outputs": [],
   "source": [
    "frames = [finalDf, finalDf2]\n",
    "\n",
    "finalDf3 = pd.concat(frames)"
   ]
  },
  {
   "cell_type": "code",
   "execution_count": 128,
   "metadata": {
    "tags": []
   },
   "outputs": [
    {
     "data": {
      "text/html": [
       "<div>\n",
       "<style scoped>\n",
       "    .dataframe tbody tr th:only-of-type {\n",
       "        vertical-align: middle;\n",
       "    }\n",
       "\n",
       "    .dataframe tbody tr th {\n",
       "        vertical-align: top;\n",
       "    }\n",
       "\n",
       "    .dataframe thead th {\n",
       "        text-align: right;\n",
       "    }\n",
       "</style>\n",
       "<table border=\"1\" class=\"dataframe\">\n",
       "  <thead>\n",
       "    <tr style=\"text-align: right;\">\n",
       "      <th></th>\n",
       "      <th>PC1</th>\n",
       "      <th>PC2</th>\n",
       "      <th>PC3</th>\n",
       "      <th>PC4</th>\n",
       "      <th>PC5</th>\n",
       "      <th>PC6</th>\n",
       "      <th>PC7</th>\n",
       "      <th>PC8</th>\n",
       "      <th>R</th>\n",
       "    </tr>\n",
       "  </thead>\n",
       "  <tbody>\n",
       "    <tr>\n",
       "      <th>0</th>\n",
       "      <td>1.771331</td>\n",
       "      <td>-1.137171</td>\n",
       "      <td>-1.675878</td>\n",
       "      <td>-0.498355</td>\n",
       "      <td>-2.777698</td>\n",
       "      <td>0.448446</td>\n",
       "      <td>-1.447696</td>\n",
       "      <td>-0.182100</td>\n",
       "      <td>0</td>\n",
       "    </tr>\n",
       "    <tr>\n",
       "      <th>1</th>\n",
       "      <td>-0.255837</td>\n",
       "      <td>0.195476</td>\n",
       "      <td>3.247259</td>\n",
       "      <td>1.268048</td>\n",
       "      <td>0.257771</td>\n",
       "      <td>0.681627</td>\n",
       "      <td>1.067989</td>\n",
       "      <td>1.184568</td>\n",
       "      <td>0</td>\n",
       "    </tr>\n",
       "    <tr>\n",
       "      <th>2</th>\n",
       "      <td>0.589135</td>\n",
       "      <td>3.135991</td>\n",
       "      <td>1.561038</td>\n",
       "      <td>-0.700292</td>\n",
       "      <td>-1.145694</td>\n",
       "      <td>2.136896</td>\n",
       "      <td>-1.963031</td>\n",
       "      <td>-0.680309</td>\n",
       "      <td>0</td>\n",
       "    </tr>\n",
       "    <tr>\n",
       "      <th>3</th>\n",
       "      <td>3.457205</td>\n",
       "      <td>-1.291418</td>\n",
       "      <td>2.195838</td>\n",
       "      <td>0.222242</td>\n",
       "      <td>1.532335</td>\n",
       "      <td>0.178011</td>\n",
       "      <td>0.579397</td>\n",
       "      <td>-0.355355</td>\n",
       "      <td>0</td>\n",
       "    </tr>\n",
       "    <tr>\n",
       "      <th>4</th>\n",
       "      <td>-0.540668</td>\n",
       "      <td>0.033933</td>\n",
       "      <td>-2.785252</td>\n",
       "      <td>-1.342239</td>\n",
       "      <td>-0.997950</td>\n",
       "      <td>-0.008703</td>\n",
       "      <td>0.478929</td>\n",
       "      <td>1.800847</td>\n",
       "      <td>0</td>\n",
       "    </tr>\n",
       "    <tr>\n",
       "      <th>...</th>\n",
       "      <td>...</td>\n",
       "      <td>...</td>\n",
       "      <td>...</td>\n",
       "      <td>...</td>\n",
       "      <td>...</td>\n",
       "      <td>...</td>\n",
       "      <td>...</td>\n",
       "      <td>...</td>\n",
       "      <td>...</td>\n",
       "    </tr>\n",
       "    <tr>\n",
       "      <th>495</th>\n",
       "      <td>-0.951834</td>\n",
       "      <td>-1.069247</td>\n",
       "      <td>2.330222</td>\n",
       "      <td>2.265518</td>\n",
       "      <td>-0.353572</td>\n",
       "      <td>-2.487894</td>\n",
       "      <td>-1.782808</td>\n",
       "      <td>1.343354</td>\n",
       "      <td>1</td>\n",
       "    </tr>\n",
       "    <tr>\n",
       "      <th>496</th>\n",
       "      <td>-0.607679</td>\n",
       "      <td>0.370259</td>\n",
       "      <td>0.514243</td>\n",
       "      <td>-0.410838</td>\n",
       "      <td>-0.297200</td>\n",
       "      <td>-2.258973</td>\n",
       "      <td>1.129173</td>\n",
       "      <td>-0.621486</td>\n",
       "      <td>1</td>\n",
       "    </tr>\n",
       "    <tr>\n",
       "      <th>497</th>\n",
       "      <td>-2.662597</td>\n",
       "      <td>-2.217470</td>\n",
       "      <td>1.577861</td>\n",
       "      <td>2.262023</td>\n",
       "      <td>0.374623</td>\n",
       "      <td>-1.434014</td>\n",
       "      <td>-1.884827</td>\n",
       "      <td>-0.927968</td>\n",
       "      <td>1</td>\n",
       "    </tr>\n",
       "    <tr>\n",
       "      <th>498</th>\n",
       "      <td>-1.109375</td>\n",
       "      <td>1.845472</td>\n",
       "      <td>0.369324</td>\n",
       "      <td>0.661023</td>\n",
       "      <td>0.488053</td>\n",
       "      <td>0.743512</td>\n",
       "      <td>2.195221</td>\n",
       "      <td>0.485851</td>\n",
       "      <td>1</td>\n",
       "    </tr>\n",
       "    <tr>\n",
       "      <th>499</th>\n",
       "      <td>-1.388085</td>\n",
       "      <td>-0.477956</td>\n",
       "      <td>-2.158929</td>\n",
       "      <td>-2.596705</td>\n",
       "      <td>2.210295</td>\n",
       "      <td>-0.333247</td>\n",
       "      <td>0.200233</td>\n",
       "      <td>-1.083702</td>\n",
       "      <td>1</td>\n",
       "    </tr>\n",
       "  </tbody>\n",
       "</table>\n",
       "<p>86500 rows × 9 columns</p>\n",
       "</div>"
      ],
      "text/plain": [
       "          PC1       PC2       PC3       PC4       PC5       PC6       PC7  \\\n",
       "0    1.771331 -1.137171 -1.675878 -0.498355 -2.777698  0.448446 -1.447696   \n",
       "1   -0.255837  0.195476  3.247259  1.268048  0.257771  0.681627  1.067989   \n",
       "2    0.589135  3.135991  1.561038 -0.700292 -1.145694  2.136896 -1.963031   \n",
       "3    3.457205 -1.291418  2.195838  0.222242  1.532335  0.178011  0.579397   \n",
       "4   -0.540668  0.033933 -2.785252 -1.342239 -0.997950 -0.008703  0.478929   \n",
       "..        ...       ...       ...       ...       ...       ...       ...   \n",
       "495 -0.951834 -1.069247  2.330222  2.265518 -0.353572 -2.487894 -1.782808   \n",
       "496 -0.607679  0.370259  0.514243 -0.410838 -0.297200 -2.258973  1.129173   \n",
       "497 -2.662597 -2.217470  1.577861  2.262023  0.374623 -1.434014 -1.884827   \n",
       "498 -1.109375  1.845472  0.369324  0.661023  0.488053  0.743512  2.195221   \n",
       "499 -1.388085 -0.477956 -2.158929 -2.596705  2.210295 -0.333247  0.200233   \n",
       "\n",
       "          PC8  R  \n",
       "0   -0.182100  0  \n",
       "1    1.184568  0  \n",
       "2   -0.680309  0  \n",
       "3   -0.355355  0  \n",
       "4    1.800847  0  \n",
       "..        ... ..  \n",
       "495  1.343354  1  \n",
       "496 -0.621486  1  \n",
       "497 -0.927968  1  \n",
       "498  0.485851  1  \n",
       "499 -1.083702  1  \n",
       "\n",
       "[86500 rows x 9 columns]"
      ]
     },
     "execution_count": 128,
     "metadata": {},
     "output_type": "execute_result"
    }
   ],
   "source": [
    "finalDf3"
   ]
  },
  {
   "cell_type": "markdown",
   "metadata": {},
   "source": [
    "Dato un DF restituisco la distanza media e massima dei punti che lo compongono"
   ]
  },
  {
   "cell_type": "code",
   "execution_count": 129,
   "metadata": {},
   "outputs": [],
   "source": [
    "def maxAndMedian(df):\n",
    "    df = df.sort_values(by=['PC1'],ascending=False)\n",
    "    \n",
    "    features = cols2[:components]\n",
    "    # Separating out the features\n",
    "    x = df.loc[:, features].values\n",
    "    \n",
    "    maxT = 0\n",
    "    totale = 0\n",
    "    if SIFT_method:\n",
    "        tot_element = [0]*components\n",
    "    else:\n",
    "        tot_element = [0]*components\n",
    "    for element in x:\n",
    "        temp = np.linalg.norm(element)\n",
    "        totale += temp\n",
    "        tot_element += element\n",
    "        if temp > maxT:\n",
    "            maxT = temp\n",
    "            \n",
    "    media = totale / len(x)\n",
    "    \n",
    "    media_list = np.mean(x, axis=0)\n",
    "\n",
    "    centerDist = np.linalg.norm(tot_element/len(x))\n",
    "        \n",
    "    return maxT, media,centerDist"
   ]
  },
  {
   "cell_type": "code",
   "execution_count": 130,
   "metadata": {},
   "outputs": [
    {
     "name": "stdout",
     "output_type": "stream",
     "text": [
      "6.324741487045763\n",
      "4.064446028170509\n",
      "8.612538708832856e-16\n"
     ]
    }
   ],
   "source": [
    "maxT, media,centerDist = maxAndMedian(finalDf2)\n",
    "print(maxT)\n",
    "print(media)\n",
    "print(centerDist)"
   ]
  },
  {
   "cell_type": "code",
   "execution_count": 123,
   "metadata": {},
   "outputs": [
    {
     "name": "stdout",
     "output_type": "stream",
     "text": [
      "6.7896790071649775\n",
      "4.261841899903259\n",
      "1.8835660000209042e-13\n"
     ]
    }
   ],
   "source": [
    "maxT, media,centerDist = maxAndMedian(finalDf)\n",
    "print(maxT)\n",
    "print(media)\n",
    "print(centerDist)"
   ]
  },
  {
   "cell_type": "code",
   "execution_count": 132,
   "metadata": {},
   "outputs": [
    {
     "data": {
      "image/png": "[encoded data removed]",
      "text/plain": [
       "<Figure size 864x864 with 1 Axes>"
      ]
     },
     "metadata": {
      "needs_background": "light"
     },
     "output_type": "display_data"
    }
   ],
   "source": [
    "fig = plt.figure(figsize = (12,12))\n",
    "ax = fig.add_subplot(1,1,1) \n",
    "ax.set_xlim([-20, 20])\n",
    "ax.set_ylim([-20, 20])\n",
    "ax.set_xlabel('Principal Component 1', fontsize = 15)\n",
    "ax.set_ylabel('Principal Component 2', fontsize = 15)\n",
    "ax.set_title('2 component PCA', fontsize = 20)\n",
    "targets = [0,1]\n",
    "colors = ['g', 'r']\n",
    "#circle = plt.Circle((0, 0), 5.95, color='b')\n",
    "#ax.add_artist(circle)\n",
    "for target, color in zip(targets,colors):\n",
    "    indicesToKeep = finalDf3['R'] == target\n",
    "    ax.scatter(finalDf3.loc[indicesToKeep, 'PC1']\n",
    "               , finalDf3.loc[indicesToKeep, 'PC2']\n",
    "                #, finalDf3.loc[indicesToKeep, 'R']\n",
    "               , c = color\n",
    "               , s = 50)\n",
    "targets = ['Buoni', 'Scarti']\n",
    "ax.legend(targets)\n",
    "ax.grid()"
   ]
  },
  {
   "cell_type": "code",
   "execution_count": null,
   "metadata": {},
   "outputs": [],
   "source": []
  }
 ],
 "metadata": {
  "kernelspec": {
   "display_name": "Python 3 (ipykernel)",
   "language": "python",
   "name": "python3"
  },
  "language_info": {
   "codemirror_mode": {
    "name": "ipython",
    "version": 3
   },
   "file_extension": ".py",
   "mimetype": "text/x-python",
   "name": "python",
   "nbconvert_exporter": "python",
   "pygments_lexer": "ipython3",
   "version": "3.7.11"
  }
 },
 "nbformat": 4,
 "nbformat_minor": 4
}
