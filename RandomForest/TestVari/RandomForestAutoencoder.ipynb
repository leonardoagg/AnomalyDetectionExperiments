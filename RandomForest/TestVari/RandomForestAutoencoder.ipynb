{
 "cells": [
  {
   "cell_type": "code",
   "execution_count": 1,
   "id": "d976a9bf-e359-41c7-80de-cf571e9553fc",
   "metadata": {},
   "outputs": [
    {
     "name": "stderr",
     "output_type": "stream",
     "text": [
      "Using TensorFlow backend.\n"
     ]
    }
   ],
   "source": [
    "import cv2\n",
    "import numpy as np\n",
    "import glob\n",
    "from matplotlib import pyplot as plt\n",
    "from sklearn.preprocessing import StandardScaler\n",
    "import tensorflow as tf\n",
    "%matplotlib inline\n",
    "import PIL\n",
    "import math\n",
    "from keras import backend as K \n",
    "from tensorflow.keras import layers \n",
    "from keras.layers.merge import concatenate\n",
    "from keras.models import Model, Sequential\n",
    "from keras.layers import Dense, Input\n",
    "from sklearn.ensemble import IsolationForest\n"
   ]
  },
  {
   "cell_type": "code",
   "execution_count": 2,
   "id": "155a31db-e20b-4582-b4dd-48db5bf58c02",
   "metadata": {},
   "outputs": [],
   "source": [
    "def SSIMLoss(y_true, y_pred):\n",
    "    \n",
    "    y_true = tf.convert_to_tensor(y_true)\n",
    "    y_pred = tf.convert_to_tensor(y_pred)\n",
    "\n",
    "    return 1 - tf.reduce_mean(tf.image.ssim(y_true, y_pred,1.0))"
   ]
  },
  {
   "cell_type": "code",
   "execution_count": 3,
   "id": "3dcc2b30-9510-4906-bf42-0ffca91d181c",
   "metadata": {},
   "outputs": [],
   "source": [
    "random_state = np.random.RandomState(42)"
   ]
  },
  {
   "cell_type": "code",
   "execution_count": 4,
   "id": "96195692-d790-4e81-a63b-7be65149a2d9",
   "metadata": {},
   "outputs": [],
   "source": [
    "def cutWorkSpace(img,border): \n",
    "    # dimensioni immagini\n",
    "    img_h = 2048\n",
    "    img_l = 2048\n",
    "    # offset per posizionamento su area d'indagine\n",
    "    offset_x = 600\n",
    "    offset_y = 500\n",
    "    \n",
    "    #taglio per garantire la ricerca sull'area di interesse, evitando rumori dati dallo sfondo\n",
    "    crop_img = img[offset_y:img_h-offset_y, offset_x:img_l-offset_x]\n",
    "    \n",
    "    # Convert the img to grayscale\n",
    "    gray = cv2.cvtColor(crop_img,cv2.COLOR_BGR2GRAY)\n",
    "    blurred = cv2.GaussianBlur(gray, (5, 5), 0)\n",
    "    high_thresh, thresh_im = cv2.threshold(blurred, 0, 255, cv2.THRESH_BINARY + cv2.THRESH_OTSU)\n",
    "    #cv2.imwrite('provaT.jpg', thresh_im)\n",
    "    lowThresh = 0.5*high_thresh\n",
    "    \n",
    "    \n",
    "    # Apply edge detection method on the image\n",
    "    #edges = cv2.Canny(blurred,20,150,apertureSize = 3)\n",
    "    edges = cv2.Canny(blurred,18,150,apertureSize = 3)\n",
    "    #plt.imshow(edges)\n",
    "    #plt.show()\n",
    "    #cv2.imwrite('results_img/'+str(count_img)+'ed.jpg', edges)\n",
    "    #cv2.imwrite('canny.jpg', edges)\n",
    "    # This returns an array of r and theta values\n",
    "    lines = cv2.HoughLines(edges,1,np.pi/180, 100)\n",
    "    #cv2.imwrite('Risultati/resFS'+name+'c.jpg', edges)\n",
    "    # The below for loop runs till r and theta values \n",
    "    # are in the range of the 2d array\n",
    "    i = 0\n",
    "    x_first = 0\n",
    "    x_second = 0\n",
    "    count = 0\n",
    "    delta = 35\n",
    "    thetaFinal = 0\n",
    "    while count < 2:\n",
    "        for r,theta in lines[i]:\n",
    "            # Stores the value of cos(theta) in a\n",
    "            a = np.cos(theta)\n",
    "\n",
    "            # Stores the value of sin(theta) in b\n",
    "            b = np.sin(theta)\n",
    "\n",
    "            # x0 stores the value rcos(theta)\n",
    "            x0 = a*r\n",
    "\n",
    "            # y0 stores the value rsin(theta)\n",
    "            y0 = b*r\n",
    "\n",
    "            #ti define line lenght\n",
    "            const = 3000\n",
    "            # x1 stores the rounded off value of (rcos(theta)-1000sin(theta))\n",
    "            x1 = int(x0 + const*(-b))\n",
    "\n",
    "            # y1 stores the rounded off value of (rsin(theta)+1000cos(theta))\n",
    "            y1 = int(y0 + const*(a))\n",
    "\n",
    "            # x2 stores the rounded off value of (rcos(theta)+1000sin(theta))\n",
    "            x2 = int(x0 - const*(-b))\n",
    "\n",
    "            # y2 stores the rounded off value of (rsin(theta)-1000cos(theta))\n",
    "            y2 = int(y0 - const*(a))\n",
    "\n",
    "            if count == 0 :\n",
    "                if theta != 0:\n",
    "                    thetaFinal = 180-math.degrees(theta)\n",
    "                x_first = x0\n",
    "                #cv2.line(img,(x1+offset_x,y1+offset_y), (x2+offset_x,y2+offset_y), (0,0,255),2)\n",
    "                count += 1\n",
    "            else:\n",
    "                if abs(x_first-x0) > delta :\n",
    "                    x_second = x0\n",
    "                    #cv2.line(img,(x1+offset_x,y1+offset_y), (x2+offset_x,y2+offset_y), (0,0,255),2)\n",
    "                    count += 1\n",
    "            i += 1\n",
    "    # All the changes made in the input image are finally\n",
    "    # written on a new image houghlines.jpg\n",
    "    #cv2.imwrite('Risultati/res'+name+'.jpg', img)\n",
    "    (h, w) = img.shape[:2]\n",
    "    (cX, cY) = (w // 2, h // 2)\n",
    "    # rotate our image by Theta degrees around the center of the image\n",
    "    M = cv2.getRotationMatrix2D((cX, cY), -thetaFinal, 1.0)\n",
    "    rotated = cv2.warpAffine(img, M, (w, h))\n",
    "    scale_percent = 100 # percent of original size\n",
    "\n",
    "  \n",
    "    if x_first < x_second:\n",
    "        \n",
    "        median = (x_second+x_first)//2\n",
    "        temp = rotated[0:img_h-1, int(offset_x+median-border):int(offset_x+median+border)]\n",
    "        width = int(temp.shape[1] * scale_percent / 100)\n",
    "        height = int(temp.shape[0] * scale_percent / 100)\n",
    "        dim = (width, height)\n",
    "        temp = cv2.resize(temp, dim, interpolation = cv2.INTER_AREA)        \n",
    "        gray = cv2.cvtColor(temp,cv2.COLOR_BGR2GRAY)\n",
    "        return  gray\n",
    "    else:\n",
    "        median = (x_first+x_second)//2.\n",
    "        temp = rotated[0:img_h-1, int(offset_x+median-border):int(offset_x+median+border)]        \n",
    "        #blurred = cv2.GaussianBlur(temp, (3,3), 0)\n",
    "        width = int(temp.shape[1] * scale_percent / 100)\n",
    "        height = int(temp.shape[0] * scale_percent / 100)\n",
    "        dim = (width, height)\n",
    "        temp = cv2.resize(temp, dim, interpolation = cv2.INTER_AREA)\n",
    "        gray = cv2.cvtColor(temp,cv2.COLOR_BGR2GRAY)\n",
    "        return  gray\n",
    "    "
   ]
  },
  {
   "cell_type": "code",
   "execution_count": 5,
   "id": "4cb9571d-7966-44fa-96f8-0c1635f7f3a4",
   "metadata": {},
   "outputs": [],
   "source": [
    "def divideImage(img,pcs):\n",
    "    results = []\n",
    "    lung = len(img) // pcs\n",
    "    for i in range(pcs):\n",
    "        results.append(img[(lung*i):(lung*(i+1)-1)][:])\n",
    "    final_res = []\n",
    "    for res in results:\n",
    "        final_res.append(cv2.resize(res, (rows,col), interpolation = cv2.INTER_AREA))\n",
    "    return final_res"
   ]
  },
  {
   "cell_type": "code",
   "execution_count": 16,
   "id": "876144bd-9091-47c1-8ac7-147884d78fe5",
   "metadata": {},
   "outputs": [],
   "source": [
    "#pathBuoni = '/Users/leonardoaggio/Desktop/Dataset/S606C/Cam3@00004/*.tif'\n",
    "pathBuoni = '/Users/leonardoaggio/Desktop/Dataset/S606C/Buoni/*.tif'\n",
    "pathScarti = '/Users/leonardoaggio/Desktop/Dataset/Dataset/SectionScarti/*.tif'\n",
    "\n",
    "\n",
    "rows = 32\n",
    "col = 32\n",
    "\n",
    "pezziXimmagine = 17\n",
    "border = 60\n",
    "#Nclusters = 10\n",
    "\n",
    "results = []\n",
    "img_train = []\n",
    "list_paths = []\n",
    "\n",
    "\n",
    "list_paths_scarti = glob.glob(pathScarti) \n",
    "list_paths_buoni = glob.glob(pathBuoni)\n",
    "results += [1] * (len(list_paths_buoni) * pezziXimmagine)\n",
    "results += [-1] * len(list_paths_scarti)\n",
    "list_paths += list_paths_scarti\n",
    "list_paths += list_paths_buoni\n",
    "\n",
    "count = 0\n",
    "for img_path in list_paths_buoni:\n",
    "    img = cv2.imread(img_path)\n",
    "    #try:\n",
    "    img_train +=  divideImage(cutWorkSpace(img,border),pezziXimmagine)\n",
    "    count += 1\n",
    "#except:\n",
    "    #print('errore lettura')\n",
    "\n",
    "for img_path in list_paths_scarti:\n",
    "    img = cv2.imread(img_path)\n",
    "   # try:\n",
    "    img = cv2.cvtColor(img,cv2.COLOR_BGR2GRAY)\n",
    "    img = cv2.resize(img, (rows,col), interpolation = cv2.INTER_AREA)\n",
    "    img_train.append(img)\n",
    "#except:\n",
    "    #print('errore lettura')        \n",
    "\n",
    "x_train = np.array(img_train)\n",
    "\n",
    "\n",
    "x_train = x_train/255.\n",
    "x_temp = np.empty((len(img_train), rows,col,1))\n",
    "x_train = x_train.astype('float32')\n",
    "for i in range(len(img_train)):\n",
    "    x_temp[i]=(np.expand_dims(x_train[i], axis=2))\n",
    "x_train = x_temp\n",
    "\n",
    "x_train = x_train.astype('float32')"
   ]
  },
  {
   "cell_type": "code",
   "execution_count": 17,
   "id": "5c928181-3b6d-4329-92d5-b440d4ca003e",
   "metadata": {},
   "outputs": [
    {
     "name": "stdout",
     "output_type": "stream",
     "text": [
      "2363\n"
     ]
    }
   ],
   "source": [
    "print(len(img_train))"
   ]
  },
  {
   "cell_type": "code",
   "execution_count": 18,
   "id": "b0addba3-3478-4502-a94f-a95e1da77a24",
   "metadata": {},
   "outputs": [],
   "source": [
    "optimizer = tf.keras.optimizers.Adam(lr = 0.0005)\n",
    "autoencoder_model = tf.keras.models.load_model('/Users/leonardoaggio/Desktop/Dataset/Programmi/Autoencoder/newFormatVersion3', compile=False)\n",
    "autoencoder_model.compile(optimizer=optimizer, loss=SSIMLoss)\n",
    "\n",
    "get_6th_layer_output = K.function([autoencoder_model.layers[0].input],\n",
    "                                  [autoencoder_model.layers[6].output])"
   ]
  },
  {
   "cell_type": "code",
   "execution_count": 19,
   "id": "aa5acadd-0fe8-42df-84f0-61ec27fc20b9",
   "metadata": {},
   "outputs": [],
   "source": [
    "layer_output_train = get_6th_layer_output([x_train])[0]"
   ]
  },
  {
   "cell_type": "code",
   "execution_count": null,
   "id": "be374f03-40f3-4dbf-b6e2-4bc30e93e50b",
   "metadata": {},
   "outputs": [],
   "source": []
  },
  {
   "cell_type": "code",
   "execution_count": 74,
   "id": "373bb792-1ff4-4b6e-a1e0-67274d50562e",
   "metadata": {},
   "outputs": [
    {
     "name": "stderr",
     "output_type": "stream",
     "text": [
      "[Parallel(n_jobs=1)]: Using backend SequentialBackend with 1 concurrent workers.\n",
      "[Parallel(n_jobs=1)]: Done   1 out of   1 | elapsed:    0.4s finished\n"
     ]
    },
    {
     "data": {
      "text/plain": [
       "IsolationForest(contamination=0.03776978417266187,\n",
       "                random_state=RandomState(MT19937) at 0x7FF5643048D0, verbose=1)"
      ]
     },
     "execution_count": 74,
     "metadata": {},
     "output_type": "execute_result"
    }
   ],
   "source": [
    "contamination_N = len(list_paths_scarti)/ len(results) * 1.05\n",
    "\n",
    "model=IsolationForest(n_estimators=100,verbose = 1,max_samples='auto',contamination=contamination_N,random_state=random_state)\n",
    "\n",
    "model.fit(layer_output_train)"
   ]
  },
  {
   "cell_type": "code",
   "execution_count": 75,
   "id": "6e7e21a0-fcab-423b-938a-92196f2a30ec",
   "metadata": {},
   "outputs": [],
   "source": [
    "train_predict = model.predict(layer_output_train)"
   ]
  },
  {
   "cell_type": "code",
   "execution_count": 76,
   "id": "5eb6cb33-b375-48c8-bd27-0dd63914fabd",
   "metadata": {},
   "outputs": [
    {
     "name": "stdout",
     "output_type": "stream",
     "text": [
      "[ 1  1  1 ...  1 -1 -1]\n"
     ]
    }
   ],
   "source": [
    "print(train_predict)"
   ]
  },
  {
   "cell_type": "code",
   "execution_count": 77,
   "id": "0d2fe954-89ec-4777-b8e5-3e73c4251ba1",
   "metadata": {
    "scrolled": true,
    "tags": []
   },
   "outputs": [
    {
     "name": "stdout",
     "output_type": "stream",
     "text": [
      "63\n"
     ]
    }
   ],
   "source": [
    "j = 0\n",
    "for i in range (len(results)):\n",
    "    if train_predict[i] != results[i]:\n",
    "       # print(train_predict[i])\n",
    "       # print(results[i])\n",
    "        j += 1\n",
    "print(j)"
   ]
  },
  {
   "cell_type": "code",
   "execution_count": 89,
   "id": "a678942b-7d67-4633-bd8a-8d0d10b5445c",
   "metadata": {},
   "outputs": [
    {
     "name": "stdout",
     "output_type": "stream",
     "text": [
      "12\n",
      "13\n",
      "9\n",
      "4\n",
      "4\n",
      "15\n",
      "5\n",
      "4\n",
      "3\n"
     ]
    }
   ],
   "source": [
    "path = '/Users/leonardoaggio/Desktop/Dataset/S606C/ScartiTotali/*.tif'\n",
    "\n",
    "list_paths = []\n",
    "limite = 4\n",
    "scarto = 0\n",
    "list_paths = glob.glob(path) \n",
    "\n",
    "for img_path in list_paths:\n",
    "    img = cv2.imread(img_path)\n",
    "    #try:\n",
    "    imgs =  divideImage(cutWorkSpace(img,border),pezziXimmagine) \n",
    "\n",
    "    x_test = np.array(imgs)\n",
    "\n",
    "    x_test = x_test/255.\n",
    "    x_temp = np.empty((len(x_test), rows,col,1))\n",
    "    x_test = x_test.astype('float32')\n",
    "    for i in range(len(x_test)):\n",
    "        x_temp[i]=(np.expand_dims(x_test[i], axis=2))\n",
    "    x_test = x_temp\n",
    "    x_test = x_test.astype('float32')\n",
    "    layer_output_test = get_6th_layer_output([x_test])[0]\n",
    "    test_predict = model.predict(layer_output_test)\n",
    "    count = 0\n",
    "    for i in test_predict:\n",
    "        if i == -1:\n",
    "            count +=1\n",
    "    if count > limite:\n",
    "        scarto+= 1\n",
    "    print(count)"
   ]
  },
  {
   "cell_type": "code",
   "execution_count": 87,
   "id": "4c20aefe-c277-46b8-b191-456ef0af5743",
   "metadata": {},
   "outputs": [
    {
     "data": {
      "text/plain": [
       "5"
      ]
     },
     "execution_count": 87,
     "metadata": {},
     "output_type": "execute_result"
    }
   ],
   "source": [
    "scarto"
   ]
  },
  {
   "cell_type": "code",
   "execution_count": 88,
   "id": "5d89cb62-7ff3-4ce3-a6a4-65ba3f2a1164",
   "metadata": {},
   "outputs": [
    {
     "data": {
      "text/plain": [
       "9"
      ]
     },
     "execution_count": 88,
     "metadata": {},
     "output_type": "execute_result"
    }
   ],
   "source": [
    "len(list_paths)"
   ]
  },
  {
   "cell_type": "code",
   "execution_count": null,
   "id": "ced3984e-9815-4832-bf22-40d9a790d709",
   "metadata": {},
   "outputs": [],
   "source": []
  }
 ],
 "metadata": {
  "kernelspec": {
   "display_name": "Python 3 (ipykernel)",
   "language": "python",
   "name": "python3"
  },
  "language_info": {
   "codemirror_mode": {
    "name": "ipython",
    "version": 3
   },
   "file_extension": ".py",
   "mimetype": "text/x-python",
   "name": "python",
   "nbconvert_exporter": "python",
   "pygments_lexer": "ipython3",
   "version": "3.7.11"
  }
 },
 "nbformat": 4,
 "nbformat_minor": 5
}
