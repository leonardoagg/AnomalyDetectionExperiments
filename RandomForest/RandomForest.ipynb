{
 "cells": [
  {
   "cell_type": "code",
   "execution_count": 1,
   "metadata": {},
   "outputs": [],
   "source": [
    "import cv2\n",
    "import numpy as np\n",
    "import glob\n",
    "import seaborn as sns\n",
    "from sklearn.ensemble import IsolationForest\n",
    "from matplotlib import pyplot as plt"
   ]
  },
  {
   "cell_type": "markdown",
   "metadata": {},
   "source": [
    "Questa funzione prende in ingresso l'immagine originale, l'immagine ritagliata e il nome del salvataggio. Restituisce un immagine che rappresenta la zona di lavoro"
   ]
  },
  {
   "cell_type": "code",
   "execution_count": 2,
   "metadata": {},
   "outputs": [],
   "source": [
    "def cutWorkSpace(img,border): \n",
    "    # dimensioni immagini\n",
    "    img_h = 2048\n",
    "    img_l = 2048\n",
    "    # offset per posizionamento su area d'indagine\n",
    "    offset_x = 600\n",
    "    offset_y = 500\n",
    "    \n",
    "    #taglio per garantire la ricerca sull'area di interesse, evitando rumori dati dallo sfondo\n",
    "    crop_img = img[offset_y:img_h-offset_y, offset_x:img_l-offset_x]\n",
    "    \n",
    "    # Convert the img to grayscale\n",
    "    gray = cv2.cvtColor(crop_img,cv2.COLOR_BGR2GRAY)\n",
    "    blurred = cv2.GaussianBlur(gray, (9, 9), 0)\n",
    "    high_thresh, thresh_im = cv2.threshold(blurred, 0, 255, cv2.THRESH_BINARY + cv2.THRESH_OTSU)\n",
    "    #cv2.imwrite('provaT.jpg', thresh_im)\n",
    "    lowThresh = 0.5*high_thresh\n",
    "    \n",
    "    \n",
    "    # Apply edge detection method on the image\n",
    "    #edges = cv2.Canny(blurred,20,150,apertureSize = 3)\n",
    "    edges = cv2.Canny(blurred,20,150,apertureSize = 3)\n",
    "    cv2.imwrite('canny.jpg', edges)\n",
    "    # This returns an array of r and theta values\n",
    "    lines = cv2.HoughLines(edges,1,np.pi/180, 100)\n",
    "    #cv2.imwrite('Risultati/resFS'+name+'c.jpg', edges)\n",
    "    # The below for loop runs till r and theta values \n",
    "    # are in the range of the 2d array\n",
    "    i = 0\n",
    "    x_first = 0\n",
    "    x_second = 0\n",
    "    count = 0\n",
    "    delta = 30\n",
    "\n",
    "    while count < 2:\n",
    "        for r,theta in lines[i]:\n",
    "            # Stores the value of cos(theta) in a\n",
    "            a = np.cos(theta)\n",
    "\n",
    "            # Stores the value of sin(theta) in b\n",
    "            b = np.sin(theta)\n",
    "\n",
    "            # x0 stores the value rcos(theta)\n",
    "            x0 = a*r\n",
    "\n",
    "            # y0 stores the value rsin(theta)\n",
    "            y0 = b*r\n",
    "\n",
    "            #ti define line lenght\n",
    "            const = 3000\n",
    "            # x1 stores the rounded off value of (rcos(theta)-1000sin(theta))\n",
    "            x1 = int(x0 + const*(-b))\n",
    "\n",
    "            # y1 stores the rounded off value of (rsin(theta)+1000cos(theta))\n",
    "            y1 = int(y0 + const*(a))\n",
    "\n",
    "            # x2 stores the rounded off value of (rcos(theta)+1000sin(theta))\n",
    "            x2 = int(x0 - const*(-b))\n",
    "\n",
    "            # y2 stores the rounded off value of (rsin(theta)-1000cos(theta))\n",
    "            y2 = int(y0 - const*(a))\n",
    "\n",
    "            if count == 0 :\n",
    "                \n",
    "                x_first = x0\n",
    "                #cv2.line(img,(x1+offset_x,y1+offset_y), (x2+offset_x,y2+offset_y), (0,0,255),2)\n",
    "                count += 1\n",
    "            else:\n",
    "                if abs(x_first-x0) > delta :\n",
    "                    x_second = x0\n",
    "                    #cv2.line(img,(x1+offset_x,y1+offset_y), (x2+offset_x,y2+offset_y), (0,0,255),2)\n",
    "                    count += 1\n",
    "            i += 1\n",
    "    # All the changes made in the input image are finally\n",
    "    # written on a new image houghlines.jpg\n",
    "    #cv2.imwrite('Risultati/res'+name+'.jpg', img)\n",
    "    scale_percent = 30 # percent of original size\n",
    "\n",
    "  \n",
    "    if x_first < x_second:\n",
    "        median = (x_second+x_first)//2\n",
    "        temp = img[0:img_h-1, int(offset_x+median-border):int(offset_x+median+border)]\n",
    "        width = int(temp.shape[1] * scale_percent / 100)\n",
    "        height = int(temp.shape[0] * scale_percent / 100)\n",
    "        dim = (width, height)\n",
    "        temp = cv2.resize(temp, dim, interpolation = cv2.INTER_AREA)        \n",
    "        gray = cv2.cvtColor(temp,cv2.COLOR_BGR2GRAY)\n",
    "        return  gray\n",
    "    else:\n",
    "        median = (x_first+x_second)//2.\n",
    "        temp = img[0:img_h-1, int(offset_x+median-border):int(offset_x+median+border)]        \n",
    "        #blurred = cv2.GaussianBlur(temp, (3,3), 0)\n",
    "        width = int(temp.shape[1] * scale_percent / 100)\n",
    "        height = int(temp.shape[0] * scale_percent / 100)\n",
    "        dim = (width, height)\n",
    "        temp = cv2.resize(temp, dim, interpolation = cv2.INTER_AREA)\n",
    "        gray = cv2.cvtColor(temp,cv2.COLOR_BGR2GRAY)\n",
    "        return  gray"
   ]
  },
  {
   "cell_type": "code",
   "execution_count": 3,
   "metadata": {},
   "outputs": [],
   "source": [
    "def divideImage(img,pcs):\n",
    "    results = []\n",
    "    lung = len(img) // pcs\n",
    "    for i in range(pcs):\n",
    "        results.append(img[(lung*i):(lung*(i+1)-1)][:])\n",
    "\n",
    "    return results"
   ]
  },
  {
   "cell_type": "markdown",
   "metadata": {},
   "source": [
    "## Creazione histogramma usando features - creazione NN\n",
    "accetta in ingresso un vettore con [[img],[classe]]\n",
    "in uscita mi ritorna kmeans e MLP"
   ]
  },
  {
   "cell_type": "code",
   "execution_count": 4,
   "metadata": {},
   "outputs": [],
   "source": [
    "from sklearn.cluster import MiniBatchKMeans\n",
    "from sklearn.neural_network import MLPClassifier\n",
    "\n",
    "def createNN(imgsWithClass, Nclusters):\n",
    "    \n",
    "    # creo histogramma con valori trovati di feature per ogni immagine di train\n",
    "    train_imgs = imgsWithClass[0]\n",
    "    res = []\n",
    "    k = 0\n",
    "    for img in train_imgs:\n",
    "        im = []\n",
    "        for d in img:\n",
    "            for i in d:\n",
    "                im.append(i)\n",
    "        im.append(imgsWithClass[1][k])\n",
    "        k += 1\n",
    "        res.append(im)\n",
    "    \n",
    "    res = np.array(res)\n",
    "    \n",
    "    return res\n",
    "    #return kmeans, mlp, val_result"
   ]
  },
  {
   "cell_type": "markdown",
   "metadata": {},
   "source": [
    "Creo funzione per testare immagini sulla NN trovata"
   ]
  },
  {
   "cell_type": "code",
   "execution_count": 5,
   "metadata": {},
   "outputs": [],
   "source": [
    "def testNN(train_imgs):\n",
    "    \n",
    "    results=[]\n",
    "    \n",
    "    res = []\n",
    "    for img in train_imgs:\n",
    "        im = []\n",
    "        for d in img:\n",
    "            for i in d:\n",
    "                im.append(i)\n",
    "        res.append(im)\n",
    "    \n",
    "    res = np.array(res)\n",
    "    \n",
    "    cols = []\n",
    "        \n",
    "    for i in range(len(res[0])):\n",
    "        cols.append('F'+str(i+1))\n",
    "\n",
    "\n",
    "    df = pd.DataFrame(res ,columns = cols)\n",
    "    results.append(model.predict(df[cols]))\n",
    "\n",
    "    return results"
   ]
  },
  {
   "cell_type": "code",
   "execution_count": 6,
   "metadata": {},
   "outputs": [
    {
     "data": {
      "image/png": "[encoded data removed]",
      "text/plain": [
       "<Figure size 432x288 with 1 Axes>"
      ]
     },
     "metadata": {
      "needs_background": "light"
     },
     "output_type": "display_data"
    }
   ],
   "source": [
    "scelta = 120\n",
    "threshold = 5\n",
    "if scelta == 70:\n",
    "    pathBuoni = '/Users/leonardoaggio/Desktop/Dataset/S606C/Buoni70/*.tif'\n",
    "    pathBuoniVal = '/Users/leonardoaggio/Desktop/Dataset/S606C/Buoni70Val/*.tif'\n",
    "    contamination_N = 6/79.\n",
    "\n",
    "if scelta == 100:\n",
    "    pathBuoni = '/Users/leonardoaggio/Desktop/Dataset/S606C/Buoni100/*.tif'\n",
    "    pathBuoniVal = '/Users/leonardoaggio/Desktop/Dataset/S606C/Buoni100Val/*.tif'\n",
    "    contamination_N = 6/107.\n",
    "if scelta == 120:\n",
    "    pathBuoni = '/Users/leonardoaggio/Desktop/Dataset/S606C/Buoni120/*.tif'\n",
    "    pathBuoniVal = '/Users/leonardoaggio/Desktop/Dataset/S606C/Buoni120Val/*.tif'\n",
    "    contamination_N = 6/126.\n",
    "\n",
    "pathFS = '/Users/leonardoaggio/Desktop/Dataset/S606C/FalsiScarti/*.tif'\n",
    "pathScarti = '/Users/leonardoaggio/Desktop/Dataset/S606C/Scarti/*.tif'\n",
    "\n",
    "pathFSVal = '/Users/leonardoaggio/Desktop/Dataset/S606C/FalsiScartiVal/*.tif'\n",
    "pathScartiVal = '/Users/leonardoaggio/Desktop/Dataset/S606C/ScartiVal/*.tif'\n",
    "\n",
    "pezziXimmagine = 25\n",
    "border = 60\n",
    "Nclusters = 10\n",
    "\n",
    "#\n",
    "#\n",
    "\n",
    "\n",
    "results = []\n",
    "img_results = []\n",
    "list_paths = []\n",
    "\n",
    "list_paths += glob.glob(pathScarti)\n",
    "results += [1] * len(glob.glob(pathScarti)) * pezziXimmagine\n",
    "\n",
    "list_paths += glob.glob(pathBuoni) \n",
    "results += [0] * len(glob.glob(pathBuoni)) * pezziXimmagine\n",
    "\n",
    "#list_paths += glob.glob(pathFS)\n",
    "#results += [0] * len(glob.glob(pathFS)) * pezziXimmagine\n",
    "\n",
    "\n",
    "#list_paths += glob.glob(pathBuoniVal) \n",
    "#results += [0] * len(glob.glob(pathBuoniVal)) * pezziXimmagine\n",
    "\n",
    "#list_paths += glob.glob(pathFSVal)\n",
    "#results += [0] * len(glob.glob(pathFSVal)) * pezziXimmagine\n",
    "\n",
    "#list_paths += glob.glob(pathScartiVal)\n",
    "#results += [1] * len(glob.glob(pathScartiVal)) * pezziXimmagine\n",
    "\n",
    "\n",
    "\n",
    "#print(results)\n",
    "i = 0\n",
    "for img_path in list_paths:\n",
    "    img = cv2.imread(img_path)\n",
    "    temp = cutWorkSpace(img,border)\n",
    "    #cv2.imwrite('ImgScarte/img'+str(i)+'.jpg', temp)\n",
    "    temp2 = divideImage(temp,pezziXimmagine)\n",
    "    img_results += temp2\n",
    "    j = 0\n",
    "    for im in temp2:\n",
    "        #cv2.imwrite('ImgScarte/img'+str(i)+'pzs'+str(j)+'.jpg', im)\n",
    "        j += 1\n",
    "    i += 1\n",
    "    \n",
    "plt.imshow(img_results[0])\n",
    "plt.show()"
   ]
  },
  {
   "cell_type": "code",
   "execution_count": 7,
   "metadata": {},
   "outputs": [],
   "source": [
    "train_images = np.array(img_results)\n",
    "train_images = train_images/255."
   ]
  },
  {
   "cell_type": "code",
   "execution_count": 8,
   "metadata": {},
   "outputs": [
    {
     "data": {
      "text/plain": [
       "3125"
      ]
     },
     "execution_count": 8,
     "metadata": {},
     "output_type": "execute_result"
    }
   ],
   "source": [
    "len(train_images)"
   ]
  },
  {
   "cell_type": "code",
   "execution_count": 9,
   "metadata": {
    "scrolled": true,
    "tags": []
   },
   "outputs": [],
   "source": [
    "imgsWithClass = [train_images,results]\n",
    "\n",
    "\n",
    "histo = createNN(imgsWithClass, Nclusters)"
   ]
  },
  {
   "cell_type": "code",
   "execution_count": null,
   "metadata": {},
   "outputs": [],
   "source": []
  },
  {
   "cell_type": "code",
   "execution_count": 10,
   "metadata": {},
   "outputs": [
    {
     "name": "stdout",
     "output_type": "stream",
     "text": [
      "10\n"
     ]
    }
   ],
   "source": [
    "import pandas as pd\n",
    "\n",
    "print(Nclusters)\n",
    "cols = []\n",
    "hist_2 = []\n",
    "i = 0\n",
    "\n",
    "\n",
    "\n",
    "\n",
    "for i in range(len(histo[0])-1):\n",
    "    cols.append('F'+str(i+1))\n",
    "\n",
    "cols.append('R')\n",
    "\n",
    "df = pd.DataFrame(histo ,columns = cols)\n",
    "\n"
   ]
  },
  {
   "cell_type": "code",
   "execution_count": null,
   "metadata": {},
   "outputs": [],
   "source": []
  },
  {
   "cell_type": "code",
   "execution_count": 11,
   "metadata": {
    "scrolled": true,
    "tags": []
   },
   "outputs": [],
   "source": [
    "#sns.boxplot(histo[0])"
   ]
  },
  {
   "cell_type": "code",
   "execution_count": 12,
   "metadata": {},
   "outputs": [],
   "source": [
    "random_state = np.random.RandomState(42)"
   ]
  },
  {
   "cell_type": "code",
   "execution_count": 13,
   "metadata": {},
   "outputs": [
    {
     "name": "stdout",
     "output_type": "stream",
     "text": [
      "{'bootstrap': False, 'contamination': 0.047619047619047616, 'max_features': 1.0, 'max_samples': 'auto', 'n_estimators': 100, 'n_jobs': None, 'random_state': RandomState(MT19937) at 0x7F841FC30270, 'verbose': 0, 'warm_start': False}\n"
     ]
    }
   ],
   "source": [
    "col = []\n",
    "\n",
    "for i in range(len(histo[0])-1):\n",
    "    col.append('F'+str(i+1))\n",
    "\n",
    "model=IsolationForest(n_estimators=100,max_samples='auto',contamination=contamination_N,random_state=random_state)\n",
    "\n",
    "model.fit(df[col])\n",
    "\n",
    "print(model.get_params())"
   ]
  },
  {
   "cell_type": "code",
   "execution_count": 14,
   "metadata": {},
   "outputs": [],
   "source": [
    "df['scores'] = model.decision_function(df[col])\n",
    "\n",
    "df['anomaly_score'] = model.predict(df[col])\n",
    "\n",
    "#df[df['anomaly_score']==-1]"
   ]
  },
  {
   "cell_type": "code",
   "execution_count": 15,
   "metadata": {},
   "outputs": [],
   "source": [
    "#threshold = 4"
   ]
  },
  {
   "cell_type": "code",
   "execution_count": 16,
   "metadata": {},
   "outputs": [
    {
     "name": "stdout",
     "output_type": "stream",
     "text": [
      "/Users/leonardoaggio/Desktop/Dataset/S606C/Scarti/Cam3@00004 2.tif\n",
      "TRAIN scarti\n",
      "BUONI : 1\n",
      "Falsi buoni su scarti totali: 0.16666666666666666\n"
     ]
    }
   ],
   "source": [
    "#temp = '/Users/leonardoaggio/Desktop/Dataset/S606C/Cam3@00004/*.tif'\n",
    "temp = pathScarti\n",
    "test_path = glob.glob(temp) \n",
    "results = []\n",
    "i = 0\n",
    "res = []\n",
    "img_results = []\n",
    "for img_path in test_path:\n",
    "    img = cv2.imread(img_path)\n",
    "    temp = cutWorkSpace(img,border)\n",
    "    temp2 = divideImage(temp,pezziXimmagine)\n",
    "    img_results = temp2\n",
    "    train_images = np.array(img_results)\n",
    "    train_images = train_images/255.\n",
    "    res = testNN(train_images)\n",
    "    scarto = 0\n",
    "    for el in res:\n",
    "        for e in el:\n",
    "            if e == -1:\n",
    "                scarto += 1\n",
    "    if scarto < threshold:\n",
    "        i +=1\n",
    "        print(img_path)\n",
    "\n",
    "print('TRAIN scarti')\n",
    "print('BUONI : '+ str(i))\n",
    "print('Falsi buoni su scarti totali: '+ str(i/len(test_path)))"
   ]
  },
  {
   "cell_type": "code",
   "execution_count": null,
   "metadata": {},
   "outputs": [],
   "source": []
  },
  {
   "cell_type": "code",
   "execution_count": null,
   "metadata": {},
   "outputs": [],
   "source": []
  },
  {
   "cell_type": "code",
   "execution_count": 17,
   "metadata": {},
   "outputs": [
    {
     "name": "stdout",
     "output_type": "stream",
     "text": [
      "18\n",
      "12\n",
      "7\n",
      "Test scarti\n",
      "BUONI : 0\n",
      "Falsi buoni su scarti totali: 0.0\n"
     ]
    }
   ],
   "source": [
    "temp = pathScartiVal\n",
    "test_path = glob.glob(temp) \n",
    "results = []\n",
    "i = 0\n",
    "res = []\n",
    "\n",
    "for img_path in test_path:\n",
    "    img = cv2.imread(img_path)\n",
    "    temp = cutWorkSpace(img,border)\n",
    "    temp2 = divideImage(temp,pezziXimmagine)\n",
    "    img_results = temp2\n",
    "    train_images = np.array(img_results)\n",
    "    train_images = train_images/255.\n",
    "    res = testNN(train_images)\n",
    "    scarto = 0\n",
    "    for el in res:\n",
    "        for e in el:\n",
    "            if e == -1:\n",
    "                scarto += 1\n",
    "    if scarto < threshold:\n",
    "        i +=1\n",
    "    print(scarto)\n",
    "print('Test scarti')\n",
    "print('BUONI : '+ str(i))\n",
    "print('Falsi buoni su scarti totali: '+ str(i/len(test_path)))"
   ]
  },
  {
   "cell_type": "code",
   "execution_count": null,
   "metadata": {},
   "outputs": [],
   "source": []
  },
  {
   "cell_type": "code",
   "execution_count": 18,
   "metadata": {},
   "outputs": [
    {
     "name": "stdout",
     "output_type": "stream",
     "text": [
      "Test\n",
      "Scarti : 2\n",
      "Falsi scarti su buoni totali: 0.02531645569620253\n"
     ]
    }
   ],
   "source": [
    "#temp = '/Users/leonardoaggio/Desktop/Dataset/S606C/ScartiTotali/*.tif'\n",
    "#temp = '/Users/leonardoaggio/Desktop/Dataset/S606C/Cam3@00004/*.tif'\n",
    "\n",
    "\n",
    "temp = pathBuoniVal\n",
    "test_path = glob.glob(temp) \n",
    "results = []\n",
    "i = 0\n",
    "res = []\n",
    "\n",
    "for img_path in test_path:\n",
    "    img = cv2.imread(img_path)\n",
    "    temp = cutWorkSpace(img,border)\n",
    "    temp2 = divideImage(temp,pezziXimmagine)\n",
    "    img_results = temp2\n",
    "    train_images = np.array(img_results)\n",
    "    train_images = train_images/255.\n",
    "    res = testNN(train_images)\n",
    "    scarto = 0\n",
    "    for el in res:\n",
    "        for e in el:\n",
    "            if e == -1:\n",
    "                scarto += 1\n",
    "    if scarto > threshold:\n",
    "        i +=1\n",
    "    #print(scarto)\n",
    "print('Test')\n",
    "print('Scarti : '+ str(i))\n",
    "print('Falsi scarti su buoni totali: '+ str(i/len(test_path)))"
   ]
  },
  {
   "cell_type": "code",
   "execution_count": 19,
   "metadata": {},
   "outputs": [
    {
     "name": "stdout",
     "output_type": "stream",
     "text": [
      "Test\n",
      "Scarti : 5\n",
      "Falsi scarti su buoni totali: 0.011467889908256881\n"
     ]
    }
   ],
   "source": [
    "#temp = '/Users/leonardoaggio/Desktop/Dataset/S606C/ScartiTotali/*.tif'\n",
    "temp = '/Users/leonardoaggio/Desktop/Dataset/S606C/Cam3@00004/*.tif'\n",
    "\n",
    "\n",
    "#temp = pathBuoniVal\n",
    "test_path = glob.glob(temp) \n",
    "results = []\n",
    "i = 0\n",
    "res = []\n",
    "\n",
    "for img_path in test_path:\n",
    "    img = cv2.imread(img_path)\n",
    "    temp = cutWorkSpace(img,border)\n",
    "    temp2 = divideImage(temp,pezziXimmagine)\n",
    "    img_results = temp2\n",
    "    train_images = np.array(img_results)\n",
    "    train_images = train_images/255.\n",
    "    res = testNN(train_images)\n",
    "    scarto = 0\n",
    "    for el in res:\n",
    "        for e in el:\n",
    "            if e == -1:\n",
    "                scarto += 1\n",
    "    if scarto > threshold:\n",
    "        i +=1\n",
    "print('Test')\n",
    "print('Scarti : '+ str(i))\n",
    "print('Falsi scarti su buoni totali: '+ str(i/len(test_path)))"
   ]
  },
  {
   "cell_type": "code",
   "execution_count": null,
   "metadata": {},
   "outputs": [],
   "source": []
  },
  {
   "cell_type": "code",
   "execution_count": null,
   "metadata": {},
   "outputs": [],
   "source": []
  }
 ],
 "metadata": {
  "kernelspec": {
   "display_name": "Python 3 (ipykernel)",
   "language": "python",
   "name": "python3"
  },
  "language_info": {
   "codemirror_mode": {
    "name": "ipython",
    "version": 3
   },
   "file_extension": ".py",
   "mimetype": "text/x-python",
   "name": "python",
   "nbconvert_exporter": "python",
   "pygments_lexer": "ipython3",
   "version": "3.7.11"
  }
 },
 "nbformat": 4,
 "nbformat_minor": 4
}
