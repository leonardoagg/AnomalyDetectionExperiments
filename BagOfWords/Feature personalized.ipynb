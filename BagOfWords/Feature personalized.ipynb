{
 "cells": [
  {
   "cell_type": "code",
   "execution_count": 27,
   "id": "005cc0a4-3957-45a5-879a-e5e6375a24a2",
   "metadata": {},
   "outputs": [],
   "source": [
    "import cv2\n",
    "import numpy as np\n",
    "import glob\n",
    "import math\n",
    "from matplotlib import pyplot as plt"
   ]
  },
  {
   "cell_type": "code",
   "execution_count": 28,
   "id": "a264d0be-bb69-4fa1-adc1-10a02c319e84",
   "metadata": {},
   "outputs": [],
   "source": [
    "\n",
    "point = (50,50)\n",
    "\n",
    "\n"
   ]
  },
  {
   "cell_type": "code",
   "execution_count": 85,
   "id": "9e0af80f-7581-47eb-a966-035feb19cf70",
   "metadata": {},
   "outputs": [],
   "source": [
    "keypoints = []\n",
    "x1 = 60\n",
    "y1 = 60\n",
    "\n",
    "x2 = 80\n",
    "y2 = 40\n",
    "\n",
    "x3 = 40\n",
    "y3 = 40\n",
    "\n",
    "x4 = 40\n",
    "y4= 80\n",
    "\n",
    "x5 = 80\n",
    "y5 = 80\n",
    "\n",
    "size = 75\n",
    "\n",
    "angle = 0\n",
    "\n",
    "square_size =120\n",
    "for i in range (17):\n",
    "    # rappresenta X, Y, size diametro, angle, response, octave, class id\n",
    "    keypoints.append(cv2.KeyPoint(x1,y1+i*square_size,size, angle, 0, 0, -1 ))\n",
    "    keypoints.append(cv2.KeyPoint(x2,y2+i*square_size,size, angle, 0, 0, -1 ))\n",
    "    keypoints.append(cv2.KeyPoint(x3,y3+i*square_size,size, angle, 0, 0, -1 ))\n",
    "    keypoints.append(cv2.KeyPoint(x4,y4+i*square_size,size, angle, 0, 0, -1 ))\n",
    "    keypoints.append(cv2.KeyPoint(x5,y5+i*square_size,size, angle, 0, 0, -1 ))\n"
   ]
  },
  {
   "cell_type": "code",
   "execution_count": null,
   "id": "f0d8f8d2-99f1-4756-8147-6c5a099df7a5",
   "metadata": {},
   "outputs": [],
   "source": []
  },
  {
   "cell_type": "code",
   "execution_count": 86,
   "id": "274c49d5-d223-4915-9b8d-980abb7083f7",
   "metadata": {},
   "outputs": [],
   "source": [
    "img_path = '/Users/leonardoaggio/Desktop/Dataset/Programmi/RandomForest/results_img/0.jpg'\n",
    "\n",
    "img = cv2.imread(img_path)\n",
    "\n",
    "img = cv2.drawKeypoints(img, keypoints, 0, flags=4)"
   ]
  },
  {
   "cell_type": "code",
   "execution_count": 87,
   "id": "aac68d63-7cd5-4c9e-a880-f0096f53e657",
   "metadata": {},
   "outputs": [
    {
     "data": {
      "image/png": "[encoded data removed]",
      "text/plain": [
       "<Figure size 432x288 with 1 Axes>"
      ]
     },
     "metadata": {
      "needs_background": "light"
     },
     "output_type": "display_data"
    }
   ],
   "source": [
    "cv2.imwrite('sift_keypoints.jpg',img)\n",
    "plt.imshow(img)\n",
    "plt.show()"
   ]
  },
  {
   "cell_type": "code",
   "execution_count": null,
   "id": "17d027e5-2ee0-4328-8345-cb0601019204",
   "metadata": {},
   "outputs": [],
   "source": []
  },
  {
   "cell_type": "code",
   "execution_count": null,
   "id": "b8f97f68-1f9e-4c5d-9def-de73e5be2277",
   "metadata": {},
   "outputs": [],
   "source": []
  }
 ],
 "metadata": {
  "kernelspec": {
   "display_name": "Python 3 (ipykernel)",
   "language": "python",
   "name": "python3"
  },
  "language_info": {
   "codemirror_mode": {
    "name": "ipython",
    "version": 3
   },
   "file_extension": ".py",
   "mimetype": "text/x-python",
   "name": "python",
   "nbconvert_exporter": "python",
   "pygments_lexer": "ipython3",
   "version": "3.7.11"
  }
 },
 "nbformat": 4,
 "nbformat_minor": 5
}
